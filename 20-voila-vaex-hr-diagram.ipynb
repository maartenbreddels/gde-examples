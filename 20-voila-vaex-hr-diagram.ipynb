{
 "cells": [
  {
   "cell_type": "code",
   "execution_count": null,
   "metadata": {},
   "outputs": [],
   "source": [
    "%matplotlib inline"
   ]
  },
  {
   "cell_type": "markdown",
   "metadata": {},
   "source": [
    "# Gaia data visualization using voila and vaex\n",
    "This notebook shows how to create a simple interactive dashboard showing a Hertzsprung-Russell (HR) diagram, which [can be rendered as dashboard using Voila](https://voila.vaex.io/voila/render/gde-examples/20-voila-vaex-hr-diagram.ipynb).\n",
    "\n",
    "For this, we use the following Data/Software:\n",
    "\n",
    " * <a href=\"https://gea.esac.esa.int/archive/\">Gaia</a> EDR3 dataset, crossmatched to the <a href=\"https://panstarrs.stsci.edu/\">Pan-STARRS</a> dataset (crossmatched done by Sergey Kopsov).\n",
    " * [Voila](https://voila.readthedocs.io/) to render as dashboard.\n",
    " * [Vaex](https://github.com/vaexio/vaex) to do the data aggregation.\n",
    " * [ipywidgets](https://ipywidgets.readthedocs.io/) to make this interactive."
   ]
  },
  {
   "cell_type": "code",
   "execution_count": null,
   "metadata": {
    "ExecuteTime": {
     "end_time": "2021-02-25T13:37:05.562910Z",
     "start_time": "2021-02-25T13:37:05.017232Z"
    }
   },
   "outputs": [],
   "source": [
    "import ipywidgets as widgets\n",
    "import matplotlib.pylab as plt\n",
    "import vaex\n",
    "import vaex.jupyter\n",
    "import numpy as np\n",
    "import getpass\n"
   ]
  },
  {
   "cell_type": "code",
   "execution_count": null,
   "metadata": {},
   "outputs": [],
   "source": [
    "df = vaex.open('ws://dataframe-dev.vaex.io/gaia-edr3-x-ps1')[:10_000_000]"
   ]
  },
  {
   "cell_type": "code",
   "execution_count": null,
   "metadata": {
    "ExecuteTime": {
     "end_time": "2021-02-25T13:37:07.433454Z",
     "start_time": "2021-02-25T13:37:07.430204Z"
    }
   },
   "outputs": [],
   "source": [
    "print(f'The full dataset contains {len(df):,} stars')"
   ]
  },
  {
   "cell_type": "code",
   "execution_count": null,
   "metadata": {
    "ExecuteTime": {
     "end_time": "2021-02-25T13:37:10.729793Z",
     "start_time": "2021-02-25T13:37:10.725962Z"
    }
   },
   "outputs": [],
   "source": [
    "columns_all = df.get_column_names()\n",
    "columns_colors = [col for col in columns_all if \"mean_mag\" in col ]\n",
    "print(\"We found the following photometry columns in the Gaia dataset:\\n\\t\" + \"\\n\\t\".join(columns_colors))"
   ]
  },
  {
   "cell_type": "code",
   "execution_count": null,
   "metadata": {
    "ExecuteTime": {
     "end_time": "2021-02-25T13:37:14.258392Z",
     "start_time": "2021-02-25T13:37:14.253910Z"
    }
   },
   "outputs": [],
   "source": [
    "df['distance'] = 1/df.parallax\n",
    "df['M_g'] = df.phot_g_mean_mag - 5 * np.log10(df.distance) - 10"
   ]
  },
  {
   "cell_type": "markdown",
   "metadata": {},
   "source": [
    "# Filtering the data\n",
    "We take only a subset of the data, where ${\\varpi \\over \\sigma_\\varpi} > 5$, meaning we cut out negative distances, and very uncertain distances."
   ]
  },
  {
   "cell_type": "code",
   "execution_count": null,
   "metadata": {
    "ExecuteTime": {
     "end_time": "2021-02-25T13:37:16.355618Z",
     "start_time": "2021-02-25T13:37:15.676194Z"
    }
   },
   "outputs": [],
   "source": [
    "# Filter the dataset, ignore negative or very uncertain distances\n",
    "df = df[df.parallax_over_error>5] \n",
    "print(f'The filtered dataset contains {len(df):,} stars')"
   ]
  },
  {
   "cell_type": "markdown",
   "metadata": {},
   "source": [
    "# Interactive Hertzsprung-Russell diagram\n",
    "Below, we show an [Hertzsprung Russell](https://en.wikipedia.org/wiki/Hertzsprung%E2%80%93Russell_diagram) where you can choose the colors, an extra expression to filter by, and decide to plot the log density or just density."
   ]
  },
  {
   "cell_type": "code",
   "execution_count": null,
   "metadata": {
    "ExecuteTime": {
     "end_time": "2021-02-25T13:37:17.297769Z",
     "start_time": "2021-02-25T13:37:17.138037Z"
    }
   },
   "outputs": [],
   "source": [
    "extra_filter = \"distance < 10\"\n",
    "df.select(extra_filter)"
   ]
  },
  {
   "cell_type": "code",
   "execution_count": null,
   "metadata": {
    "ExecuteTime": {
     "end_time": "2021-02-25T13:37:17.874699Z",
     "start_time": "2021-02-25T13:37:17.843004Z"
    }
   },
   "outputs": [],
   "source": [
    "limits_color = [-2, 4]\n",
    "limits_magnitude = [20, -7]\n",
    "last_filter = extra_filter\n",
    "\n",
    "@widgets.interact_manual(magnitude1=columns_colors, magnitude2=columns_colors, manual_name=\"test\")\n",
    "def plot(magnitude1=columns_colors[1], magnitude2=columns_colors[0], log=True, extra_filter=extra_filter):\n",
    "    # step1: validate/setup\n",
    "    global last_filter\n",
    "    try:\n",
    "        df.validate_expression(extra_filter)\n",
    "    except Exception as e:\n",
    "        print(\"oops, invalid expression: \" +str(e))\n",
    "        return\n",
    "    \n",
    "    # a performance trick, if we do not change the selection\n",
    "    # vaex will use the selection cache\n",
    "    if extra_filter != last_filter:\n",
    "        df.select(extra_filter)\n",
    "    last_filter = extra_filter\n",
    "\n",
    "    # step2: bin the data\n",
    "    color = df[magnitude1] - df[magnitude2]\n",
    "    # instead of calling plot, we call count manually, so we can count the number\n",
    "    # of stars in the plot.\n",
    "    counts = df.count(binby=[color, df.M_g], limits=[limits_color, limits_magnitude], shape=128,\n",
    "                        selection=True)\n",
    "    \n",
    "    # step3: draw the data using matplotlib\n",
    "\n",
    "    extent = [*limits_color, *limits_magnitude]\n",
    "    image = np.log1p(counts.T) if log else counts.T\n",
    "    N = counts.sum()\n",
    "\n",
    "    plt.figure(figsize=(8, 8))\n",
    "    plt.imshow(image, origin='lower', extent=extent, aspect='auto')\n",
    "    plt.xlabel(str(color))\n",
    "    plt.ylabel(\"$M_g$\")\n",
    "    plt.title(f'This plot contains {N:,} stars')\n",
    "    plt.show()"
   ]
  },
  {
   "cell_type": "code",
   "execution_count": null,
   "metadata": {
    "ExecuteTime": {
     "end_time": "2021-02-25T13:37:20.788330Z",
     "start_time": "2021-02-25T13:37:19.180540Z"
    }
   },
   "outputs": [],
   "source": [
    "# Manually trigger the first time\n",
    "plot.widget.children[-2].click()\n",
    "plot.widget.children[-2].description = \"Draw HR diagram\""
   ]
  },
  {
   "cell_type": "code",
   "execution_count": null,
   "metadata": {},
   "outputs": [],
   "source": []
  }
 ],
 "metadata": {
  "kernelspec": {
   "display_name": "Python 3",
   "language": "python",
   "name": "python3"
  },
  "language_info": {
   "codemirror_mode": {
    "name": "ipython",
    "version": 3
   },
   "file_extension": ".py",
   "mimetype": "text/x-python",
   "name": "python",
   "nbconvert_exporter": "python",
   "pygments_lexer": "ipython3",
   "version": "3.7.8"
  },
  "voila": {
   "template": "lab"
  }
 },
 "nbformat": 4,
 "nbformat_minor": 4
}

{
 "cells": [
  {
   "cell_type": "markdown",
   "metadata": {},
   "source": [
    "# Gaia data visualization using voila and vaex\n",
    "This notebook shows how to create a fully interactive dashboard with a Sky plot and a Hertzsprung-Russell (HR) diagram, which [can be rendered as dashboard using Voila](https://voila.vaex.io/voila/render/gde-examples/30-voila-vaex-sky-hr-diagram.ipynb).\n",
    "\n",
    "For this, we use the following Data/Software:\n",
    "\n",
    " * <a href=\"https://gea.esac.esa.int/archive/\">Gaia</a> EDR3 dataset, crossmatched to the <a href=\"https://panstarrs.stsci.edu/\">Pan-STARRS</a> dataset (crossmatched done by Sergey Kopsov).\n",
    " * [Voila](https://voila.readthedocs.io/) to render as dashboard.\n",
    " * [Vaex](https://github.com/vaexio/vaex) to do the data aggregation.\n",
    " * [Vaex-jupyter](https://vaex.io/docs/tutorial_jupyter.html) to make the high level interactive widgets.\n",
    " * [ipyvuetify](https://github.com/mariobuikhuizen/ipyvuetify) which is what vaex-jupyter builds on top of, and wraps [vuetifyJS](http://vuetifyjs.com/) material design widgets for a modern look.\n",
    " * [voila-vuetify](https://github.com/voila-dashboards/voila-vuetify/) The voila template that renders the notebook without output cells, but only renders widgets with a `mount_id`."
   ]
  },
  {
   "cell_type": "code",
   "execution_count": null,
   "metadata": {},
   "outputs": [],
   "source": [
    "import vaex\n",
    "import vaex.jupyter\n",
    "import numpy as np"
   ]
  },
  {
   "cell_type": "code",
   "execution_count": null,
   "metadata": {},
   "outputs": [],
   "source": [
    "df = vaex.open('ws://dataframe.vaex.io/gaia-edr3-x-ps1')#[:10_000_000]"
   ]
  },
  {
   "cell_type": "code",
   "execution_count": null,
   "metadata": {},
   "outputs": [],
   "source": [
    "# main sky plot parameters\n",
    "limits_l = [360, 0]\n",
    "limits_b = [-90, 90]\n",
    "limits_g = [12, 22]\n",
    "shape_g = 100\n",
    "\n",
    "# main cmd parameters\n",
    "limits_color = [-0.5, 1.5]\n",
    "limits_magnitude = [22, -10]\n",
    "\n",
    "# adding in virtual columns\n",
    "color = df.phot_bp_mean_mag - df.phot_g_mean_mag\n",
    "df['distance'] = 1/df.parallax\n",
    "df['M_g'] = df.phot_g_mean_mag - 5 * np.log10(df.distance) - 10\n",
    "magnitude = df.M_g\n",
    "limits_color = [-0.5, 1.5]\n",
    "limits_magnitude = [22, -10]\n",
    "df['magnitude'] = magnitude\n",
    "df['color'] = color\n",
    "\n",
    "extra_filter = \"distance < 0.1\"\n",
    "df.select(extra_filter, name=\"distance_filter\")\n",
    "df.select('True', name=\"sky_filter\")\n",
    "\n"
   ]
  },
  {
   "cell_type": "code",
   "execution_count": null,
   "metadata": {},
   "outputs": [],
   "source": [
    "widget_sky = df.widget.heatmap(df.l, df.b, limits=[limits_l, limits_b], selections=['distance_filter', 'distance_filter & sky_filter'], selection_interact='sky_filter')\n",
    "widget_sky"
   ]
  },
  {
   "cell_type": "code",
   "execution_count": null,
   "metadata": {},
   "outputs": [],
   "source": [
    "widget_selection_expression = df.widget.selection_expression(extra_filter, name=\"distance_filter\")\n",
    "widget_selection_expression"
   ]
  },
  {
   "cell_type": "code",
   "execution_count": null,
   "metadata": {},
   "outputs": [],
   "source": [
    "widget_cmd = df.widget.heatmap(df.color, df.magnitude,\n",
    "                                limits=[limits_color, limits_magnitude],\n",
    "                                selections=['distance_filter & sky_filter'])\n",
    "widget_cmd"
   ]
  },
  {
   "cell_type": "code",
   "execution_count": null,
   "metadata": {},
   "outputs": [],
   "source": [
    "df.count(selection='sky_filter')"
   ]
  },
  {
   "cell_type": "code",
   "execution_count": null,
   "metadata": {},
   "outputs": [],
   "source": [
    "df.selection_histories['sky_filter'][0].boolean_expression"
   ]
  },
  {
   "cell_type": "code",
   "execution_count": null,
   "metadata": {},
   "outputs": [],
   "source": [
    "card1 = vaex.jupyter.widgets.ContainerCard(title='Sky plot',\n",
    "              main=widget_sky,\n",
    "              controls=[widget_selection_expression],\n",
    "              show_controls=True,\n",
    "              card_props={'style': 'min-width: 350px;'})\n",
    "card1"
   ]
  },
  {
   "cell_type": "code",
   "execution_count": null,
   "metadata": {},
   "outputs": [],
   "source": [
    "card2 = vaex.jupyter.widgets.ContainerCard(title='HR Diagram',\n",
    "              main=widget_cmd,\n",
    "              controls=[],\n",
    "              show_controls=False,\n",
    "              card_props={'style': 'min-width: 350px;'})\n",
    "card2"
   ]
  },
  {
   "cell_type": "code",
   "execution_count": null,
   "metadata": {},
   "outputs": [],
   "source": [
    "# all cards are 12 columns wide on small screen, 6 on medium, 4 or large\n",
    "# see https://vuetifyjs.com/en/components/grids/#grid-system\n",
    "import ipyvuetify as v\n",
    "v.Container(fluid=True, _metadata={'mount_id': 'content-main'}, children=[\n",
    "    v.Row(children=[\n",
    "        v.Col(lg=4, md=6, sm=12, children=[\n",
    "            card1\n",
    "        ]),\n",
    "        v.Col(lg=4, md=6, sm=12, children=[\n",
    "            card2\n",
    "        ]),\n",
    "    ])\n",
    "])"
   ]
  },
  {
   "cell_type": "code",
   "execution_count": null,
   "metadata": {},
   "outputs": [],
   "source": []
  }
 ],
 "metadata": {
  "kernelspec": {
   "display_name": "Python 3",
   "language": "python",
   "name": "python3"
  },
  "language_info": {
   "codemirror_mode": {
    "name": "ipython",
    "version": 3
   },
   "file_extension": ".py",
   "mimetype": "text/x-python",
   "name": "python",
   "nbconvert_exporter": "python",
   "pygments_lexer": "ipython3",
   "version": "3.7.8"
  }
 },
 "nbformat": 4,
 "nbformat_minor": 4
}
